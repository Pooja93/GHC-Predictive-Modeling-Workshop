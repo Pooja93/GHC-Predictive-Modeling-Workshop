{
 "cells": [
  {
   "cell_type": "markdown",
   "metadata": {
    "nbpresent": {
     "id": "f7e6450f-b405-43fe-ab59-876e342e917a"
    }
   },
   "source": [
    "We will now load the IMDB dataset and quickly do all necessary preprocessing"
   ]
  },
  {
   "cell_type": "code",
   "execution_count": 5,
   "metadata": {
    "collapsed": false,
    "nbpresent": {
     "id": "4fd66f76-c498-46f8-917c-3491f168cece"
    }
   },
   "outputs": [
    {
     "name": "stdout",
     "output_type": "stream",
     "text": [
      "I have successfully loaded my data!...\n"
     ]
    }
   ],
   "source": [
    "# %load ghc_code_python_viz.py\n",
    "# obtain dataset from https://www.kaggle.com/deepmatrix/imdb-5000-movie-dataset\n",
    "\n",
    "# loading imdb data into a python list format\n",
    "\n",
    "import csv\n",
    "imdb_data_csv= csv.reader(open('movie_metadata.csv'))\n",
    "imdb_data=[]\n",
    "for item in imdb_data_csv:\n",
    "    imdb_data.append(item)\n",
    "print \"I have successfully loaded my data!...\""
   ]
  },
  {
   "cell_type": "code",
   "execution_count": 2,
   "metadata": {
    "collapsed": false,
    "nbpresent": {
     "id": "6849f7ec-508a-46af-8f42-f2217d637c13"
    }
   },
   "outputs": [
    {
     "name": "stdout",
     "output_type": "stream",
     "text": [
      "number of records:  5044 number of attributes in each record:  28\n",
      "['color', 'director_name', 'num_critic_for_reviews', 'duration', 'director_facebook_likes', 'actor_3_facebook_likes', 'actor_2_name', 'actor_1_facebook_likes', 'gross', 'genres', 'actor_1_name', 'movie_title', 'num_voted_users', 'cast_total_facebook_likes', 'actor_3_name', 'facenumber_in_poster', 'plot_keywords', 'movie_imdb_link', 'num_user_for_reviews', 'language', 'country', 'content_rating', 'budget', 'title_year', 'actor_2_facebook_likes', 'imdb_score', 'aspect_ratio', 'movie_facebook_likes']\n"
     ]
    }
   ],
   "source": [
    "verbose_level=1;\n",
    "\n",
    "import random;\n",
    "random.seed(42)\n",
    "\n",
    "# total number of records\n",
    "print \"number of records: \",len(imdb_data), \"number of attributes in each record: \", len(imdb_data[0])\n",
    "\n",
    "# main categories [columns in data]\n",
    "print imdb_data[0]"
   ]
  },
  {
   "cell_type": "code",
   "execution_count": 3,
   "metadata": {
    "collapsed": false,
    "nbpresent": {
     "id": "ec39229f-45f7-4eb3-9f39-9b281ce6d29f"
    }
   },
   "outputs": [
    {
     "name": "stdout",
     "output_type": "stream",
     "text": [
      "I just executed a whole bunch of important preprocessing steps\n"
     ]
    }
   ],
   "source": [
    "# regression example, input all fields, output -> imdb score\n",
    "\n",
    "# step 1: preprocessing\n",
    "# remove NAN values from the data\n",
    "import numpy as np\n",
    "from sklearn.preprocessing import Imputer\n",
    "from sklearn.preprocessing import OneHotEncoder\n",
    "def remove_NAN(data):\n",
    "     imp=Imputer(missing_values='nan',strategy=\"mean\",axis=0)\n",
    "     imp.fit_transform(data)\n",
    "     return data\n",
    "\n",
    "#one hot encoding\n",
    "def convert_text_to_numeric_onehot(data,column_nos):\n",
    "    enc=OneHotEncoder(categorical_features=column_nos)\n",
    "    enc.fit(data);\n",
    "    return enc.transform(data);\n",
    "    \n",
    "# for regression we would ideally like all the fields to be numeric, therefore, convert names and other text fields into numbers\n",
    "def convert_text_to_numeric(data,column_no):\n",
    "    encoding={}\n",
    "    curr_index = 1\n",
    "    for i,item in enumerate(data):\n",
    "        if item[column_no] in encoding.keys():\n",
    "            data[i][column_no] = encoding[item[column_no]]\n",
    "        else:\n",
    "            encoding[item[column_no]] = curr_index\n",
    "            data[i][column_no] = curr_index\n",
    "            curr_index+=1\n",
    "    return data\n",
    "\n",
    "import ast\n",
    "def toFloat(data):\n",
    "    data1=[]\n",
    "    for i,item in enumerate(data):\n",
    "        li = []\n",
    "        for x in item:\n",
    "            if isinstance(x, str):\n",
    "                try:\t\n",
    "                    li.append(float(x) if '.' in x else int(x))\n",
    "                except:\n",
    "                    li.append(0.0)\n",
    "            else:\n",
    "                li.append(x)\n",
    "        data1.append(li)\n",
    "    return data1\n",
    "\n",
    "def preprocessing(imdb_data):\n",
    "    # remove header\n",
    "    data = imdb_data[1:]\n",
    "    # convert data to nuemeric type\n",
    "    data = convert_text_to_numeric(data,1)\n",
    "    data = convert_text_to_numeric(data,6);data = convert_text_to_numeric(data,10);data = convert_text_to_numeric(data,14);\n",
    "    data = convert_text_to_numeric(data,19);data = convert_text_to_numeric(data,20);data = convert_text_to_numeric(data,21)\n",
    "\n",
    "    # remove remaining text columns from the data\n",
    "    for row in data:\n",
    "       del row[17]\n",
    "       del row[16]\n",
    "       del row[11]\n",
    "       del row[9]\n",
    "       del row[0]\n",
    "\n",
    "    data_float = toFloat(data)\n",
    "    data_np = np.matrix(data_float)\n",
    "    data_np_x = np.delete(data_np, [20], axis=1)\n",
    "    data_label1=data_np[:,20];\n",
    "\n",
    "    cat_features=[0,5,8,11,14,15,16];\n",
    "    data_np_onehot1 = convert_text_to_numeric_onehot(data_np_x,cat_features)\n",
    "    return data_np_onehot1,data_label1\n",
    "print \"I just executed a whole bunch of important preprocessing steps\""
   ]
  },
  {
   "cell_type": "code",
   "execution_count": 4,
   "metadata": {
    "collapsed": false,
    "nbpresent": {
     "id": "78d2e613-bb64-4a0d-b2fe-3aa1b3bfb37a"
    }
   },
   "outputs": [
    {
     "name": "stdout",
     "output_type": "stream",
     "text": [
      "I have just executed PCA to reduce the dimensionality of my data\n"
     ]
    }
   ],
   "source": [
    "data_np_onehot,data_label = preprocessing(imdb_data)\n",
    "\n",
    "from sklearn.decomposition import PCA\n",
    "from copy import deepcopy\n",
    "\n",
    "pca = PCA(n_components=100)\n",
    "data_pca = deepcopy(data_np_onehot.todense())\n",
    "data_pca = pca.fit_transform(data_pca)\n",
    "# In[16]:\n",
    "\n",
    "# remove nanif needed\n",
    "# data = remove_NAN(data_np)\n",
    "\n",
    "from sklearn.model_selection import train_test_split\n",
    "x_train, x_test, y_train, y_test = train_test_split(data_np_onehot, data_label, test_size=0.50, random_state=0)\n",
    "#x_train, x_test, y_train, y_test = train_test_split(data_np_onehot, data_label, test_size=0.25, random_state=0)\n",
    "\n",
    "x_train_pca, x_test_pca, y_train_pca, y_test_pca = train_test_split(data_pca, data_label, test_size=0.50, random_state=0)\n",
    "print \"I have just executed PCA to reduce the dimensionality of my data\""
   ]
  },
  {
   "cell_type": "code",
   "execution_count": 5,
   "metadata": {
    "collapsed": false,
    "nbpresent": {
     "id": "387c7370-32a0-4c53-8033-20b0ae501917"
    }
   },
   "outputs": [
    {
     "name": "stdout",
     "output_type": "stream",
     "text": [
      "linear regression absolute error:  0.764055436542\n",
      "linear regression squared error:  0.964451092202\n"
     ]
    }
   ],
   "source": [
    "from sklearn import linear_model\n",
    "\n",
    "lr = linear_model.LinearRegression()\n",
    "#lr = linear_model.Ridge()\n",
    "lr.fit(x_train, y_train)\n",
    "y_pred = lr.predict(x_test)\n",
    "\n",
    "# model evaluation\n",
    "from sklearn.metrics import mean_absolute_error\n",
    "from sklearn.metrics import mean_squared_error\n",
    "\n",
    "print 'linear regression absolute error: ', mean_absolute_error(y_test, y_pred)\n",
    "print 'linear regression squared error: ',mean_squared_error(y_test, y_pred)\n"
   ]
  },
  {
   "cell_type": "code",
   "execution_count": 6,
   "metadata": {
    "collapsed": false,
    "nbpresent": {
     "id": "4509638c-3ae4-47f3-8fdf-3197cb2fb6c3"
    }
   },
   "outputs": [
    {
     "name": "stdout",
     "output_type": "stream",
     "text": [
      "linear regression absolute error:  0.702027001184\n",
      "linear regression squared error:  0.848876898314\n"
     ]
    }
   ],
   "source": [
    "from sklearn import linear_model\n",
    "\n",
    "lr = linear_model.LinearRegression()\n",
    "#lr = linear_model.Ridge()\n",
    "lr.fit(x_train_pca, y_train_pca)\n",
    "y_pred = lr.predict(x_test_pca)\n",
    "\n",
    "# model evaluation\n",
    "from sklearn.metrics import mean_absolute_error\n",
    "from sklearn.metrics import mean_squared_error\n",
    "\n",
    "print 'linear regression absolute error: ', mean_absolute_error(y_test_pca, y_pred)\n",
    "print 'linear regression squared error: ',mean_squared_error(y_test_pca, y_pred)"
   ]
  },
  {
   "cell_type": "markdown",
   "metadata": {
    "nbpresent": {
     "id": "ec5f73b3-45da-43d4-af0a-cad6a52e0999"
    }
   },
   "source": [
    "# Ridge Regression : \n",
    "\n",
    "Ridge regression is a variation of linear regression that avoids \"smooths\" the function learnt through \"regularization\" of coefficients. \n",
    "\n",
    "<img src=\"images/overfitting.jpg\" width=\"25%\" height=\"25%\">\n",
    "\n",
    "Ridge regularization mechanism: Minimize L2 norm : Choose coefficients with lowest sum of squares\n",
    "\n",
    "Overfitting typically occurs due to lack of data. When we have lots of data, ridge regression tends to linear regression. "
   ]
  },
  {
   "cell_type": "code",
   "execution_count": 7,
   "metadata": {
    "collapsed": false,
    "nbpresent": {
     "id": "dd6a088e-d083-49dd-b1d8-5eedd0ad9d96"
    },
    "scrolled": true
   },
   "outputs": [
    {
     "name": "stdout",
     "output_type": "stream",
     "text": [
      "ridge absolute error:  0.696848452143\n",
      "ridge squared error:  0.835635214054\n"
     ]
    }
   ],
   "source": [
    "x_train=x_train_pca;x_test=x_test_pca;\n",
    "y_train=y_train_pca;y_test=y_test_pca;\n",
    "\n",
    "from sklearn.linear_model import Ridge\n",
    "\n",
    "regr_ridge = Ridge(alpha=10);\n",
    "regr_ridge.fit(x_train, y_train)\n",
    "y_pred = regr_ridge.predict(x_test)\n",
    "\n",
    "# model evaluation\n",
    "print 'ridge absolute error: ', mean_absolute_error(y_test, y_pred)\n",
    "print 'ridge squared error: ',mean_squared_error(y_test, y_pred)"
   ]
  },
  {
   "cell_type": "markdown",
   "metadata": {
    "nbpresent": {
     "id": "d9d4059c-f6d6-4ab2-819b-d373fb5fc0de"
    }
   },
   "source": [
    "## Parameter Tuning: K-fold CrossValidation:\n",
    "\n",
    "For parameter selection, divide the training data into multiple parts, each time, take one part for validate and the remaining for train, each time alternating between the part used for validation.\n",
    "\n",
    "<img src=\"images/kfold.png\" width=\"75%\" height=\"75%\">\n"
   ]
  },
  {
   "cell_type": "code",
   "execution_count": 8,
   "metadata": {
    "collapsed": false,
    "nbpresent": {
     "id": "0631020a-d79e-4a23-bf00-883e471358c9"
    }
   },
   "outputs": [
    {
     "name": "stdout",
     "output_type": "stream",
     "text": [
      "Fitting 3 folds for each of 3 candidates, totalling 9 fits\n",
      "[CV] alpha=10 ........................................................\n",
      "[CV] ......................... alpha=10, score=0.336096, total=   0.0s\n",
      "[CV] alpha=10 ........................................................\n",
      "[CV] ......................... alpha=10, score=0.291597, total=   0.0s\n",
      "[CV] alpha=10 ........................................................\n",
      "[CV] ......................... alpha=10, score=0.308398, total=   0.0s\n",
      "[CV] alpha=1 .........................................................\n",
      "[CV] .......................... alpha=1, score=0.314047, total=   0.0s\n",
      "[CV] alpha=1 .........................................................\n",
      "[CV] .......................... alpha=1, score=0.271118, total=   0.0s\n",
      "[CV] alpha=1 .........................................................\n",
      "[CV] .......................... alpha=1, score=0.292070, total=   0.0s\n",
      "[CV] alpha=0.1 .......................................................\n",
      "[CV] ........................ alpha=0.1, score=0.304727, total=   0.0s\n",
      "[CV] alpha=0.1 .......................................................\n",
      "[CV] ........................ alpha=0.1, score=0.259694, total=   0.0s\n",
      "[CV] alpha=0.1 .......................................................\n",
      "[CV] ........................ alpha=0.1, score=0.282220, total=   0.0s\n",
      "{'alpha': 10}\n",
      "ridge absolute error:  0.696848452143\n",
      "ridge squared error:  0.835635214054\n"
     ]
    },
    {
     "name": "stderr",
     "output_type": "stream",
     "text": [
      "[Parallel(n_jobs=1)]: Done   1 out of   1 | elapsed:    0.0s remaining:    0.0s\n",
      "[Parallel(n_jobs=1)]: Done   2 out of   2 | elapsed:    0.0s remaining:    0.0s\n",
      "[Parallel(n_jobs=1)]: Done   3 out of   3 | elapsed:    0.0s remaining:    0.0s\n",
      "[Parallel(n_jobs=1)]: Done   4 out of   4 | elapsed:    0.0s remaining:    0.0s\n",
      "[Parallel(n_jobs=1)]: Done   5 out of   5 | elapsed:    0.0s remaining:    0.0s\n",
      "[Parallel(n_jobs=1)]: Done   6 out of   6 | elapsed:    0.1s remaining:    0.0s\n",
      "[Parallel(n_jobs=1)]: Done   7 out of   7 | elapsed:    0.1s remaining:    0.0s\n",
      "[Parallel(n_jobs=1)]: Done   8 out of   8 | elapsed:    0.1s remaining:    0.0s\n",
      "[Parallel(n_jobs=1)]: Done   9 out of   9 | elapsed:    0.1s remaining:    0.0s\n",
      "[Parallel(n_jobs=1)]: Done   9 out of   9 | elapsed:    0.1s finished\n"
     ]
    }
   ],
   "source": [
    "#How to choose  parameter alpha ??? We use GridSearchCV for cross validation\n",
    "verbose_level=10\n",
    "from sklearn.model_selection import GridSearchCV\n",
    "regr_ridge = GridSearchCV(Ridge(), cv=3, verbose=verbose_level,\n",
    "                  param_grid={\"alpha\": [ 10,1,0.1]})\n",
    "\n",
    "regr_ridge.fit(x_train, y_train)\n",
    "y_pred = regr_ridge.predict(x_test)\n",
    "print(regr_ridge.best_params_);\n",
    "\n",
    "# model evaluation\n",
    "print 'ridge absolute error: ', mean_absolute_error(y_test, y_pred)\n",
    "print 'ridge squared error: ',mean_squared_error(y_test, y_pred)\n",
    "verbose_level=1"
   ]
  },
  {
   "cell_type": "markdown",
   "metadata": {
    "nbpresent": {
     "id": "77df055c-ed17-4e17-af27-92ab4aa35d72"
    }
   },
   "source": [
    "# Lasso Regression : \n",
    "\n",
    "Lasso is another form of regularization useful when only few of the features are relevent/ sparse features. \n",
    "\n",
    "Laso regularization Mechanism: that penalizes sum of absolute value of coefficients (L1 norm). \n",
    "Lasso induces feature sparsity and can often be used for feature selection. "
   ]
  },
  {
   "cell_type": "code",
   "execution_count": 9,
   "metadata": {
    "collapsed": false,
    "nbpresent": {
     "id": "7c7da661-4488-4426-a41a-3b87f00916e7"
    },
    "scrolled": false
   },
   "outputs": [
    {
     "name": "stdout",
     "output_type": "stream",
     "text": [
      "Fitting 2 folds for each of 4 candidates, totalling 8 fits\n",
      "{'alpha': 0.01}\n",
      "Lasso absolute error:  0.711628265078\n",
      "Lasso squared error:  0.863802536235\n"
     ]
    },
    {
     "name": "stderr",
     "output_type": "stream",
     "text": [
      "[Parallel(n_jobs=1)]: Done   8 out of   8 | elapsed:    0.1s finished\n"
     ]
    }
   ],
   "source": [
    "verbose_level=1\n",
    "from sklearn.linear_model import Lasso\n",
    "regr_ls = GridSearchCV(Lasso(), cv=2, verbose=verbose_level,\n",
    "                  param_grid={\"alpha\": [ 0.01,0.1,1,10]})\n",
    "regr_ls.fit(x_train, y_train)\n",
    "y_pred = regr_ls.predict(x_test)\n",
    "print(regr_ls.best_params_);\n",
    "\n",
    "# model evaluation\n",
    "print 'Lasso absolute error: ', mean_absolute_error(y_test, y_pred)\n",
    "print 'Lasso squared error: ',mean_squared_error(y_test, y_pred)"
   ]
  },
  {
   "cell_type": "code",
   "execution_count": 10,
   "metadata": {
    "collapsed": false,
    "nbpresent": {
     "id": "c4403c70-715a-4b19-ab96-fb9838febc2c"
    }
   },
   "outputs": [
    {
     "data": {
      "image/png": "[encoded data removed]",
      "text/plain": [
       "<matplotlib.figure.Figure at 0x7fc17d760a10>"
      ]
     },
     "metadata": {},
     "output_type": "display_data"
    },
    {
     "data": {
      "image/png": "[encoded data removed]",
      "text/plain": [
       "<matplotlib.figure.Figure at 0x7fc1707d9c90>"
      ]
     },
     "metadata": {},
     "output_type": "display_data"
    }
   ],
   "source": [
    "#Vizualization of lasso vs ridge regression\n",
    "import matplotlib.pyplot as plt\n",
    "lsarr=regr_ls.best_estimator_.coef_.flatten();\n",
    "ridgearr=regr_ridge.best_estimator_.coef_.transpose().flatten();\n",
    "#lsarr=regr_ls.best_estimator_.coef_.flatten()[0:600];\n",
    "#ridgearr=regr_ridge.best_estimator_.coef_.transpose().flatten()[0:600];\n",
    "\n",
    "\n",
    "lshist=np.absolute(lsarr)\n",
    "ridgehist=np.absolute(ridgearr)\n",
    "\n",
    "plt.bar(range(len(lshist)),lshist)\n",
    "plt.show()\n",
    "\n",
    "plt.bar(range(len(ridgehist)),ridgehist)\n",
    "plt.show()\n",
    "\n"
   ]
  },
  {
   "cell_type": "markdown",
   "metadata": {
    "nbpresent": {
     "id": "153661b9-ed9e-40cf-a6c4-ec8c840a17d4"
    }
   },
   "source": [
    "# Decision Tree Regression : \n",
    "\n",
    "Decision Tree regression is often referred to as CART (Classification and regression trees). \n",
    "\n",
    "<img src=\"images/CART.png\">\n"
   ]
  },
  {
   "cell_type": "code",
   "execution_count": 11,
   "metadata": {
    "collapsed": false,
    "nbpresent": {
     "id": "bdc66151-8c20-44c6-b3a8-7766734087e8"
    }
   },
   "outputs": [
    {
     "data": {
      "image/png": "[encoded data removed]",
      "text/plain": [
       "<matplotlib.figure.Figure at 0x7fc179917350>"
      ]
     },
     "metadata": {},
     "output_type": "display_data"
    }
   ],
   "source": [
    "# Visually showing decision tree regressor\n",
    "import matplotlib.pyplot as plt\n",
    "\n",
    "from sklearn.tree import DecisionTreeRegressor\n",
    "regr_dt = DecisionTreeRegressor(max_depth=1)\n",
    "regr_dt.fit(x_train, y_train)\n",
    "y_pred = regr_dt.predict(x_test)\n",
    "\n",
    "fig, ax = plt.subplots()\n",
    "ax.scatter(y_test, y_pred)\n",
    "ax.plot([y_pred.min(), y_pred.max()], [y_pred.min(), y_pred.max()], 'k--', lw=4)\n",
    "ax.set_xlabel('Actual Rating')\n",
    "ax.set_ylabel('Predicted Rating')\n",
    "plt.show()"
   ]
  },
  {
   "cell_type": "code",
   "execution_count": 12,
   "metadata": {
    "collapsed": false,
    "nbpresent": {
     "id": "1fbbd42d-b986-411d-a737-05998af27b78"
    },
    "scrolled": true
   },
   "outputs": [
    {
     "data": {
      "image/png": "[encoded data removed]",
      "text/plain": [
       "<matplotlib.figure.Figure at 0x7fc170021050>"
      ]
     },
     "metadata": {},
     "output_type": "display_data"
    }
   ],
   "source": [
    "regr_dt = DecisionTreeRegressor(max_depth=2)\n",
    "regr_dt.fit(x_train, y_train)\n",
    "y_pred = regr_dt.predict(x_test)\n",
    "\n",
    "fig, ax = plt.subplots()\n",
    "ax.scatter(y_test, y_pred)\n",
    "ax.plot([y_pred.min(), y_pred.max()], [y_pred.min(), y_pred.max()], 'k--', lw=4)\n",
    "ax.set_xlabel('Actual Rating')\n",
    "ax.set_ylabel('Predicted Rating')\n",
    "plt.show()"
   ]
  },
  {
   "cell_type": "code",
   "execution_count": 13,
   "metadata": {
    "collapsed": false,
    "nbpresent": {
     "id": "cbcd4abf-888e-4337-92c3-8482ab0bda0f"
    }
   },
   "outputs": [
    {
     "data": {
      "image/png": "[encoded data removed]",
      "text/plain": [
       "<matplotlib.figure.Figure at 0x7fc16bb17210>"
      ]
     },
     "metadata": {},
     "output_type": "display_data"
    }
   ],
   "source": [
    "regr_dt = DecisionTreeRegressor(max_depth=4)\n",
    "regr_dt.fit(x_train, y_train)\n",
    "y_pred = regr_dt.predict(x_test)\n",
    "\n",
    "fig, ax = plt.subplots()\n",
    "ax.scatter(y_test, y_pred)\n",
    "ax.plot([y_pred.min(), y_pred.max()], [y_pred.min(), y_pred.max()], 'k--', lw=4)\n",
    "ax.set_xlabel('Actual Rating')\n",
    "ax.set_ylabel('Predicted Rating')\n",
    "plt.show()"
   ]
  },
  {
   "cell_type": "code",
   "execution_count": 41,
   "metadata": {
    "collapsed": false
   },
   "outputs": [
    {
     "name": "stdout",
     "output_type": "stream",
     "text": [
      "Fitting 2 folds for each of 5 candidates, totalling 10 fits\n",
      "{'max_depth': 3}\n",
      "decision tree absolute error:  0.724263882095\n",
      "decsion tree squared error:  0.893241528374\n"
     ]
    },
    {
     "name": "stderr",
     "output_type": "stream",
     "text": [
      "[Parallel(n_jobs=1)]: Done  10 out of  10 | elapsed:    0.7s finished\n"
     ]
    }
   ],
   "source": [
    "regr_dt = GridSearchCV(DecisionTreeRegressor(), cv=2, verbose=verbose_level,\n",
    "                  param_grid={\"max_depth\": [ 2,3,4,5,6]})\n",
    "#regr_dt = DecisionTreeRegressor(max_depth=2)\n",
    "regr_dt.fit(x_train, y_train)\n",
    "y_pred = regr_dt.predict(x_test)\n",
    "print(regr_dt.best_params_);\n",
    "\n",
    "# model evaluation\n",
    "print 'decision tree absolute error: ', mean_absolute_error(y_test, y_pred)\n",
    "print 'decsion tree squared error: ',mean_squared_error(y_test, y_pred)\n"
   ]
  },
  {
   "cell_type": "markdown",
   "metadata": {
    "nbpresent": {
     "id": "284c014e-6834-4bbb-9121-796ffcb744d9"
    }
   },
   "source": [
    "# Random Forest Regression\n",
    "\n",
    "Random forest regression constructs an ensemble of decision trees with random partitions of data. Predictions are done by taking the average of values from multiple trees.\n",
    "\n",
    "<img src=\"images/random_forest.png\">\n"
   ]
  },
  {
   "cell_type": "code",
   "execution_count": 42,
   "metadata": {
    "collapsed": false,
    "nbpresent": {
     "id": "65242339-9524-4356-b849-cda23ad7d049"
    },
    "scrolled": false
   },
   "outputs": [
    {
     "name": "stdout",
     "output_type": "stream",
     "text": [
      "Fitting 2 folds for each of 4 candidates, totalling 8 fits\n"
     ]
    },
    {
     "name": "stderr",
     "output_type": "stream",
     "text": [
      "[Parallel(n_jobs=1)]: Done   8 out of   8 | elapsed:    3.4s finished\n"
     ]
    },
    {
     "name": "stdout",
     "output_type": "stream",
     "text": [
      "{'max_depth': 5}\n",
      "Random Forest absolute error:  0.643461798125\n",
      "Random Forest squared error:  0.738675857866\n"
     ]
    }
   ],
   "source": [
    "from sklearn.ensemble import RandomForestRegressor\n",
    "regr_rf = GridSearchCV(RandomForestRegressor(), cv=2, verbose=verbose_level,\n",
    "                  param_grid={\"max_depth\": [ 2,3,4,5]})\n",
    "#regr_dt = DecisionTreeRegressor(max_depth=2)\n",
    "regr_rf.fit(x_train, y_train)\n",
    "y_pred = regr_rf.predict(x_test)\n",
    "print(regr_rf.best_params_);\n",
    "\n",
    "# model evaluation\n",
    "print 'Random Forest absolute error: ', mean_absolute_error(y_test, y_pred)\n",
    "print 'Random Forest squared error: ',mean_squared_error(y_test, y_pred)\n"
   ]
  },
  {
   "cell_type": "markdown",
   "metadata": {
    "nbpresent": {
     "id": "84d87a96-6c4c-49d0-aace-65e3aa207a8f"
    }
   },
   "source": [
    "# Other Kernel Based techniques for non-linear problems:\n",
    "\n",
    "Support vector regression and kernel ridge regression with RBF kernel are common techniques for non-linear problems. "
   ]
  },
  {
   "cell_type": "code",
   "execution_count": null,
   "metadata": {
    "collapsed": false,
    "nbpresent": {
     "id": "2ebb0da3-6685-4cbe-a4f3-3ef62eacbf2e"
    },
    "scrolled": false
   },
   "outputs": [],
   "source": [
    "from sklearn.kernel_ridge import KernelRidge\n",
    "regr_kr = GridSearchCV(KernelRidge(kernel='rbf'), cv=3, verbose=verbose_level,\n",
    "                  param_grid={\"alpha\": [ 10,0.1,1e-3],\n",
    "                              \"gamma\": np.logspace(-15, 15, 4)})\n",
    "#regr_kr = KernelRidge(kernel='rbf',alpha=10);\n",
    "regr_kr.fit(x_train, y_train)\n",
    "y_pred = regr_kr.predict(x_test)\n",
    "print(regr_kr.best_params_);\n",
    "\n",
    "# model evaluation\n",
    "print 'kernel ridge absolute error: ', mean_absolute_error(y_test, y_pred)\n",
    "print 'kernel ridge squared error: ',mean_squared_error(y_test, y_pred)"
   ]
  },
  {
   "cell_type": "code",
   "execution_count": null,
   "metadata": {
    "collapsed": false,
    "nbpresent": {
     "id": "539df62a-93ab-434d-94ea-5bed7d1c238a"
    }
   },
   "outputs": [],
   "source": [
    "from sklearn.svm import SVR\n",
    "regr_svr = GridSearchCV(SVR(C=1), cv=2, verbose=verbose_level,param_grid={\"epsilon\":[ 0.1,1,0.001]})\n",
    "regr_svr.fit(x_train, y_train)\n",
    "y_pred = regr_svr.predict(x_test)\n",
    "print(regr_svr.best_params_);\n",
    "\n",
    "# model evaluation\n",
    "print 'SVR absolute error: ', mean_absolute_error(y_test, y_pred)\n",
    "print 'SVR squared error: ',mean_squared_error(y_test, y_pred)\n"
   ]
  },
  {
   "cell_type": "markdown",
   "metadata": {
    "collapsed": true
   },
   "source": [
    "## Summary of Python Wokshop\n",
    "\n",
    "Today we have seen : \n",
    "\n",
    "1. Preprocessing and Cleaning up data including handling categorical variables \n",
    "\n",
    "2. Principle Component Analysis (PCA) for dimensionality reduction\n",
    "\n",
    "3. Linear Regression \n",
    "\n",
    "4. Ridge Regression (with L2 regularization / smoothing)\n",
    "\n",
    "5. Parameter selection through K-Fold cross-validation\n",
    "\n",
    "5. Lasso Regressiion (With L1 regularization / smoothing inducing sparsity)\n",
    "\n",
    "6. Decision tree Regression\n",
    "\n",
    "7. Random Forest Regression\n",
    "\n",
    "Thats a lot of stuff !! Hope you had a lot of fun :-)"
   ]
  },
  {
   "cell_type": "code",
   "execution_count": null,
   "metadata": {
    "collapsed": true
   },
   "outputs": [],
   "source": []
  }
 ],
 "metadata": {
  "anaconda-cloud": {},
  "kernelspec": {
   "display_name": "Python 2",
   "language": "python",
   "name": "python2"
  },
  "language_info": {
   "codemirror_mode": {
    "name": "ipython",
    "version": 2
   },
   "file_extension": ".py",
   "mimetype": "text/x-python",
   "name": "python",
   "nbconvert_exporter": "python",
   "pygments_lexer": "ipython2",
   "version": "2.7.11"
  },
  "nbpresent": {
   "slides": {
    "038fa14a-e9fa-4bf0-aba3-a3aea48f853f": {
     "id": "038fa14a-e9fa-4bf0-aba3-a3aea48f853f",
     "prev": "e03dd7f9-e2e2-4f1f-b5ec-d7542e58a5fd",
     "regions": {
      "262cff71-1050-44ac-a438-51bc781a5b3e": {
       "attrs": {
        "height": 0.8,
        "width": 0.8,
        "x": 0.1,
        "y": 0.1
       },
       "content": {
        "cell": "c4403c70-715a-4b19-ab96-fb9838febc2c",
        "part": "whole"
       },
       "id": "262cff71-1050-44ac-a438-51bc781a5b3e"
      }
     }
    },
    "133d8e54-389a-45cb-8502-d2061bf6d4fa": {
     "id": "133d8e54-389a-45cb-8502-d2061bf6d4fa",
     "prev": "f3c3a7d3-92dc-4f93-bc54-f305eb02d9f9",
     "regions": {
      "1959517b-ef4b-48a6-bbd3-4b1c1b8fd0b9": {
       "attrs": {
        "height": 0.8,
        "width": 0.8,
        "x": 0.1,
        "y": 0.1
       },
       "content": {
        "cell": "78d2e613-bb64-4a0d-b2fe-3aa1b3bfb37a",
        "part": "whole"
       },
       "id": "1959517b-ef4b-48a6-bbd3-4b1c1b8fd0b9"
      }
     }
    },
    "2e88e18a-aece-45e7-85d2-3b698b76f3fb": {
     "id": "2e88e18a-aece-45e7-85d2-3b698b76f3fb",
     "prev": "133d8e54-389a-45cb-8502-d2061bf6d4fa",
     "regions": {
      "9f187e7f-6dff-49a4-b584-dde83cfd9ee3": {
       "attrs": {
        "height": 0.8,
        "width": 0.8,
        "x": 0.1,
        "y": 0.1
       },
       "content": {
        "cell": "387c7370-32a0-4c53-8033-20b0ae501917",
        "part": "whole"
       },
       "id": "9f187e7f-6dff-49a4-b584-dde83cfd9ee3"
      }
     }
    },
    "31f98837-a55b-4e5d-bc96-c171398b6267": {
     "id": "31f98837-a55b-4e5d-bc96-c171398b6267",
     "prev": "fb4207fa-47e7-4de2-a4f4-115366bcf8ac",
     "regions": {
      "e4be1896-04b3-4692-80fb-beaab5db0fc1": {
       "attrs": {
        "height": 0.8,
        "width": 0.8,
        "x": 0.1,
        "y": 0.1
       },
       "content": {
        "cell": "1fbbd42d-b986-411d-a737-05998af27b78",
        "part": "whole"
       },
       "id": "e4be1896-04b3-4692-80fb-beaab5db0fc1"
      }
     }
    },
    "35804713-9062-43f4-bf85-c212707f1913": {
     "id": "35804713-9062-43f4-bf85-c212707f1913",
     "prev": "4df4e928-2e57-472d-bcda-1d73548c5f56",
     "regions": {
      "c0db7e6d-db08-4f69-8740-ef7549cddd67": {
       "attrs": {
        "height": 0.8,
        "width": 0.8,
        "x": 0.1,
        "y": 0.1
       },
       "content": {
        "cell": "ec5f73b3-45da-43d4-af0a-cad6a52e0999",
        "part": "whole"
       },
       "id": "c0db7e6d-db08-4f69-8740-ef7549cddd67"
      }
     }
    },
    "430c7bcf-685b-4472-a787-37b047027ba5": {
     "id": "430c7bcf-685b-4472-a787-37b047027ba5",
     "prev": "ca2f0c0e-7829-4332-b91c-baa826b10bb5",
     "regions": {
      "52a6cd17-9fc5-4ea9-b742-0b5f0880c3f6": {
       "attrs": {
        "height": 0.8,
        "width": 0.8,
        "x": 0.1,
        "y": 0.1
       },
       "content": {
        "cell": "84d87a96-6c4c-49d0-aace-65e3aa207a8f",
        "part": "whole"
       },
       "id": "52a6cd17-9fc5-4ea9-b742-0b5f0880c3f6"
      }
     }
    },
    "4df4e928-2e57-472d-bcda-1d73548c5f56": {
     "id": "4df4e928-2e57-472d-bcda-1d73548c5f56",
     "prev": "2e88e18a-aece-45e7-85d2-3b698b76f3fb",
     "regions": {
      "ed243fcf-7d4c-4117-9de3-36626c6c1979": {
       "attrs": {
        "height": 0.8,
        "width": 0.8,
        "x": 0.1,
        "y": 0.1
       },
       "content": {
        "cell": "4509638c-3ae4-47f3-8fdf-3197cb2fb6c3",
        "part": "whole"
       },
       "id": "ed243fcf-7d4c-4117-9de3-36626c6c1979"
      }
     }
    },
    "5e2d834d-b0c3-491a-b150-c538c58b2f94": {
     "id": "5e2d834d-b0c3-491a-b150-c538c58b2f94",
     "prev": null,
     "regions": {
      "7829c2b2-5fba-4bef-bac4-8884bb326556": {
       "attrs": {
        "height": 0.8,
        "width": 0.8,
        "x": 0.1,
        "y": 0.1
       },
       "content": {
        "cell": "f7e6450f-b405-43fe-ab59-876e342e917a",
        "part": "whole"
       },
       "id": "7829c2b2-5fba-4bef-bac4-8884bb326556"
      }
     }
    },
    "5e88c71a-16d0-4968-b573-894816ae0c80": {
     "id": "5e88c71a-16d0-4968-b573-894816ae0c80",
     "prev": "038fa14a-e9fa-4bf0-aba3-a3aea48f853f",
     "regions": {
      "6acf4ccc-a717-4cba-a80b-173cac09877d": {
       "attrs": {
        "height": 0.8,
        "width": 0.8,
        "x": 0.1,
        "y": 0.1
       },
       "content": {
        "cell": "153661b9-ed9e-40cf-a6c4-ec8c840a17d4",
        "part": "whole"
       },
       "id": "6acf4ccc-a717-4cba-a80b-173cac09877d"
      }
     }
    },
    "60c3dc2a-146f-46b4-9f90-f33163546fd6": {
     "id": "60c3dc2a-146f-46b4-9f90-f33163546fd6",
     "prev": "430c7bcf-685b-4472-a787-37b047027ba5",
     "regions": {
      "499bd23f-0f43-4a5d-9c7a-1382368d20ff": {
       "attrs": {
        "height": 0.8,
        "width": 0.8,
        "x": 0.1,
        "y": 0.1
       },
       "content": {
        "cell": "2ebb0da3-6685-4cbe-a4f3-3ef62eacbf2e",
        "part": "whole"
       },
       "id": "499bd23f-0f43-4a5d-9c7a-1382368d20ff"
      }
     }
    },
    "75768bc9-835d-41e1-9952-eaff5836f080": {
     "id": "75768bc9-835d-41e1-9952-eaff5836f080",
     "prev": "60c3dc2a-146f-46b4-9f90-f33163546fd6",
     "regions": {
      "c0608581-112a-4ef8-8e44-3c23cd80704b": {
       "attrs": {
        "height": 0.8,
        "width": 0.8,
        "x": 0.1,
        "y": 0.1
       },
       "content": {
        "cell": "539df62a-93ab-434d-94ea-5bed7d1c238a",
        "part": "whole"
       },
       "id": "c0608581-112a-4ef8-8e44-3c23cd80704b"
      }
     }
    },
    "7598be91-e6d3-4230-bd66-9e9ef007feb6": {
     "id": "7598be91-e6d3-4230-bd66-9e9ef007feb6",
     "prev": "5e2d834d-b0c3-491a-b150-c538c58b2f94",
     "regions": {
      "5d45750e-d3ee-48ab-bfb9-11ac4503e3c0": {
       "attrs": {
        "height": 0.8,
        "width": 0.8,
        "x": 0.1,
        "y": 0.1
       },
       "content": {
        "cell": "4fd66f76-c498-46f8-917c-3491f168cece",
        "part": "whole"
       },
       "id": "5d45750e-d3ee-48ab-bfb9-11ac4503e3c0"
      }
     }
    },
    "7de8ca86-6f98-42c7-ae97-3a157dacb9aa": {
     "id": "7de8ca86-6f98-42c7-ae97-3a157dacb9aa",
     "prev": "a37081e0-37dc-4041-8bf4-e9ed54d0c103",
     "regions": {
      "2df206b3-879c-430f-a485-e2158a33687d": {
       "attrs": {
        "height": 0.8,
        "width": 0.8,
        "x": 0.1,
        "y": 0.1
       },
       "content": {
        "cell": "0631020a-d79e-4a23-bf00-883e471358c9",
        "part": "whole"
       },
       "id": "2df206b3-879c-430f-a485-e2158a33687d"
      }
     }
    },
    "87b95b92-4fad-417c-9581-31cbc2dcfb01": {
     "id": "87b95b92-4fad-417c-9581-31cbc2dcfb01",
     "prev": "35804713-9062-43f4-bf85-c212707f1913",
     "regions": {
      "dc753efc-6a04-450a-ba13-bdd43f93929e": {
       "attrs": {
        "height": 0.8,
        "width": 0.8,
        "x": 0.1,
        "y": 0.1
       },
       "content": {
        "cell": "dd6a088e-d083-49dd-b1d8-5eedd0ad9d96",
        "part": "whole"
       },
       "id": "dc753efc-6a04-450a-ba13-bdd43f93929e"
      }
     }
    },
    "a37081e0-37dc-4041-8bf4-e9ed54d0c103": {
     "id": "a37081e0-37dc-4041-8bf4-e9ed54d0c103",
     "prev": "87b95b92-4fad-417c-9581-31cbc2dcfb01",
     "regions": {
      "be977b43-a3e1-463c-9d17-7e486b5ac2da": {
       "attrs": {
        "height": 0.8,
        "width": 0.8,
        "x": 0.1,
        "y": 0.1
       },
       "content": {
        "cell": "d9d4059c-f6d6-4ab2-819b-d373fb5fc0de",
        "part": "whole"
       },
       "id": "be977b43-a3e1-463c-9d17-7e486b5ac2da"
      }
     }
    },
    "abbb819c-633b-4fc8-a552-ac46751ddf1b": {
     "id": "abbb819c-633b-4fc8-a552-ac46751ddf1b",
     "prev": "7598be91-e6d3-4230-bd66-9e9ef007feb6",
     "regions": {
      "ff4e3ed4-2d2e-4c06-9fd4-76195ca7c8a9": {
       "attrs": {
        "height": 0.8,
        "width": 0.8,
        "x": 0.1,
        "y": 0.1
       },
       "content": {
        "cell": "6849f7ec-508a-46af-8f42-f2217d637c13",
        "part": "whole"
       },
       "id": "ff4e3ed4-2d2e-4c06-9fd4-76195ca7c8a9"
      }
     }
    },
    "ca2f0c0e-7829-4332-b91c-baa826b10bb5": {
     "id": "ca2f0c0e-7829-4332-b91c-baa826b10bb5",
     "prev": "e77ca8e9-032c-41d2-b8c6-87df74e80cb2",
     "regions": {
      "100d1808-5dfa-466c-af2e-4971cccfb41c": {
       "attrs": {
        "height": 0.8,
        "width": 0.8,
        "x": 0.1,
        "y": 0.1
       },
       "content": {
        "cell": "65242339-9524-4356-b849-cda23ad7d049",
        "part": "whole"
       },
       "id": "100d1808-5dfa-466c-af2e-4971cccfb41c"
      }
     }
    },
    "d4c1054f-813e-4e3c-ad97-48942d4ac2c1": {
     "id": "d4c1054f-813e-4e3c-ad97-48942d4ac2c1",
     "prev": "ea21c438-50d3-42f1-ac4e-9f6aa0a375c0",
     "regions": {
      "051fd85e-6079-4496-ab64-740ec0471065": {
       "attrs": {
        "height": 0.8,
        "width": 0.8,
        "x": 0.1,
        "y": 0.1
       },
       "content": {
        "cell": "284c014e-6834-4bbb-9121-796ffcb744d9",
        "part": "whole"
       },
       "id": "051fd85e-6079-4496-ab64-740ec0471065"
      }
     }
    },
    "dedde2bd-e959-42ca-be85-77488a513e1d": {
     "id": "dedde2bd-e959-42ca-be85-77488a513e1d",
     "prev": "75768bc9-835d-41e1-9952-eaff5836f080",
     "regions": {
      "808cf054-0834-4260-8018-24403cbbe9a7": {
       "attrs": {
        "height": 0.8,
        "width": 0.8,
        "x": 0.1,
        "y": 0.1
       },
       "content": {
        "cell": "25e4a23a-103c-427e-bfdc-1c4e6fdf6173",
        "part": "whole"
       },
       "id": "808cf054-0834-4260-8018-24403cbbe9a7"
      }
     }
    },
    "e03dd7f9-e2e2-4f1f-b5ec-d7542e58a5fd": {
     "id": "e03dd7f9-e2e2-4f1f-b5ec-d7542e58a5fd",
     "prev": "f444102c-d6e8-49e4-b4a4-01a3149fd544",
     "regions": {
      "57eaf9fb-8ea9-4eb7-823c-e0db41bee71c": {
       "attrs": {
        "height": 0.8,
        "width": 0.8,
        "x": 0.1,
        "y": 0.1
       },
       "content": {
        "cell": "7c7da661-4488-4426-a41a-3b87f00916e7",
        "part": "whole"
       },
       "id": "57eaf9fb-8ea9-4eb7-823c-e0db41bee71c"
      }
     }
    },
    "e77ca8e9-032c-41d2-b8c6-87df74e80cb2": {
     "id": "e77ca8e9-032c-41d2-b8c6-87df74e80cb2",
     "prev": "d4c1054f-813e-4e3c-ad97-48942d4ac2c1",
     "regions": {
      "b40dbb60-519e-4f58-890d-f5103cf4243d": {
       "attrs": {
        "height": 0.8,
        "width": 0.8,
        "x": 0.1,
        "y": 0.1
       },
       "content": {
        "cell": "3dae9575-4843-473a-8af5-c6df6ec6c440",
        "part": "whole"
       },
       "id": "b40dbb60-519e-4f58-890d-f5103cf4243d"
      }
     }
    },
    "ea21c438-50d3-42f1-ac4e-9f6aa0a375c0": {
     "id": "ea21c438-50d3-42f1-ac4e-9f6aa0a375c0",
     "prev": "31f98837-a55b-4e5d-bc96-c171398b6267",
     "regions": {
      "b24ba106-f5ac-4722-b149-54dbada60d53": {
       "attrs": {
        "height": 0.8,
        "width": 0.8,
        "x": 0.1,
        "y": 0.1
       },
       "content": {
        "cell": "cbcd4abf-888e-4337-92c3-8482ab0bda0f",
        "part": "whole"
       },
       "id": "b24ba106-f5ac-4722-b149-54dbada60d53"
      }
     }
    },
    "f3c3a7d3-92dc-4f93-bc54-f305eb02d9f9": {
     "id": "f3c3a7d3-92dc-4f93-bc54-f305eb02d9f9",
     "prev": "abbb819c-633b-4fc8-a552-ac46751ddf1b",
     "regions": {
      "3c8472bf-254c-4a80-a832-b16f477d16c0": {
       "attrs": {
        "height": 0.8,
        "width": 0.8,
        "x": 0.1,
        "y": 0.1
       },
       "content": {
        "cell": "ec39229f-45f7-4eb3-9f39-9b281ce6d29f",
        "part": "whole"
       },
       "id": "3c8472bf-254c-4a80-a832-b16f477d16c0"
      }
     }
    },
    "f444102c-d6e8-49e4-b4a4-01a3149fd544": {
     "id": "f444102c-d6e8-49e4-b4a4-01a3149fd544",
     "prev": "7de8ca86-6f98-42c7-ae97-3a157dacb9aa",
     "regions": {
      "b475a613-c428-4ba9-975d-025dae148cd6": {
       "attrs": {
        "height": 0.8,
        "width": 0.8,
        "x": 0.1,
        "y": 0.1
       },
       "content": {
        "cell": "77df055c-ed17-4e17-af27-92ab4aa35d72",
        "part": "whole"
       },
       "id": "b475a613-c428-4ba9-975d-025dae148cd6"
      }
     }
    },
    "fb4207fa-47e7-4de2-a4f4-115366bcf8ac": {
     "id": "fb4207fa-47e7-4de2-a4f4-115366bcf8ac",
     "prev": "5e88c71a-16d0-4968-b573-894816ae0c80",
     "regions": {
      "23546d3c-277c-48af-9592-f6d1fb238de0": {
       "attrs": {
        "height": 0.8,
        "width": 0.8,
        "x": 0.1,
        "y": 0.1
       },
       "content": {
        "cell": "bdc66151-8c20-44c6-b3a8-7766734087e8",
        "part": "whole"
       },
       "id": "23546d3c-277c-48af-9592-f6d1fb238de0"
      }
     }
    }
   },
   "themes": {}
  }
 },
 "nbformat": 4,
 "nbformat_minor": 1
}
